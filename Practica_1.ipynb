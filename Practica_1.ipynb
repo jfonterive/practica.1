{
  "nbformat": 4,
  "nbformat_minor": 0,
  "metadata": {
    "colab": {
      "name": "Practica_1.ipynb",
      "provenance": []
    },
    "kernelspec": {
      "name": "python3",
      "display_name": "Python 3"
    },
    "language_info": {
      "name": "python"
    }
  },
  "cells": [
    {
      "cell_type": "code",
      "execution_count": null,
      "metadata": {
        "id": "Jv8_tqeDuwaU"
      },
      "outputs": [],
      "source": [
        ""
      ]
    },
    {
      "cell_type": "markdown",
      "source": [
        "#Practica1\n",
        "\n",
        "\n"
      ],
      "metadata": {
        "id": "H2SLmGJGuynJ"
      }
    },
    {
      "cell_type": "code",
      "source": [
        "pip install numpy-financial"
      ],
      "metadata": {
        "colab": {
          "base_uri": "https://localhost:8080/"
        },
        "id": "bQM9k00HxjOQ",
        "outputId": "34522da3-7c02-45e1-b7b1-825f7138d428"
      },
      "execution_count": null,
      "outputs": [
        {
          "output_type": "stream",
          "name": "stdout",
          "text": [
            "Collecting numpy-financial\n",
            "  Downloading numpy_financial-1.0.0-py3-none-any.whl (14 kB)\n",
            "Requirement already satisfied: numpy>=1.15 in /usr/local/lib/python3.7/dist-packages (from numpy-financial) (1.21.5)\n",
            "Installing collected packages: numpy-financial\n",
            "Successfully installed numpy-financial-1.0.0\n"
          ]
        }
      ]
    },
    {
      "cell_type": "code",
      "source": [
        "import numpy_financial as npf\n",
        "# intalamos la liberia neceseria,\n",
        "#copiamos los datos\n",
        "#El Precio inicial negativo--TIR\n",
        "#En el bono X no conocemos su precio\n",
        "bonoA = [-96,100,0,0,0,0]\n",
        "bonoB = [-545,50,550,0,0,0]\n",
        "bonoC = [-1030,70,70,1070,0,0]\n",
        "bonoD = [-2030,150,150,150,2150,0]\n",
        "bonoE = [-3920,300,300,300,300,4300]\n",
        "bonoX = [0,100,100,100,100,1100]\n",
        "#El primer paso es calcular la TIR de los bonos cuyo precio es conocido\n",
        "tirA = npf.irr(bonoA)\n",
        "tirB = npf.irr(bonoB)\n",
        "tirC = npf.irr(bonoC)\n",
        "tirD = npf.irr(bonoD)\n",
        "tirE = npf.irr(bonoE)\n",
        "print(f\"LA tir del bonoA es: {tirA:.2%}\")\n",
        "print(f\"LA tir del bonoB es: {tirB:.2%}\")\n",
        "print(f\"LA tir del bonoC es: {tirC:.2%}\")\n",
        "print(f\"LA tir del bonoD es: {tirD:.2%}\")\n",
        "print(f\"LA tir del bonoE es: {tirE:.2%}\")\n",
        "\n",
        "# para calcular el precio del bono X necesitaremos conocer las ETTI desde el año 1 hasta 5\n",
        "\n",
        "#contruimos el vector de ETTI\n",
        "etti = [tirA,0,0,0,0]\n",
        "\n",
        "#Para obtener las ETTI necesarias utlizaremos los flujos de caja intermedios descontados(FCID)\n",
        "def calculo_etti(bono, etti):\n",
        "    n = [i for i, e in enumerate(bono) if e != 0][-1]\n",
        "    ultimo_flujo = bono[n]\n",
        "    precio = -bono[0]\n",
        "    fcid = 0\n",
        "    for i in range(1,n):\n",
        "        fcid += bono[i] / (1+etti[i-1])**i\n",
        "    return (ultimo_flujo / (precio - fcid))**(1/n)-1\n",
        "\n",
        "\n",
        "\n",
        "\n",
        "etti[1] = calculo_etti(bonoB, etti)\n",
        "etti[2] = calculo_etti(bonoC, etti)\n",
        "etti[3] = calculo_etti(bonoD, etti)\n",
        "etti[4] = calculo_etti(bonoE, etti)\n",
        "print(\"El valor de las etti es:\", etti)\n",
        "\n",
        "#Una vez conocidas las ETTI, podemos calcular el precio del bonoX descontado sus flujos\n",
        "\n",
        "\n",
        "def calcular_precio(flujos, interés):\n",
        "    precio = 0\n",
        "    for i in range(1, len(flujos)):\n",
        "        precio += flujos[i] * (1+interés[i-1])**-i\n",
        "    return precio\n",
        "\n",
        "precioX= calcular_precio(bonoX, etti)\n",
        "print(f\"el precio del bonoX es {precioX} Euros\")\n",
        "\n",
        "bonoX[0]= -precioX\n",
        "print(bonoX)\n",
        "#calculamos la TIR del BonoX\n",
        "tirX = npf.irr(bonoX)\n",
        "print(f\"LA tir del bonoX es: {tirX:.2%}\")\n"
      ],
      "metadata": {
        "colab": {
          "base_uri": "https://localhost:8080/"
        },
        "id": "NKGssSsQxqyP",
        "outputId": "d01efaea-76bd-416a-9177-e9289be39446"
      },
      "execution_count": null,
      "outputs": [
        {
          "output_type": "stream",
          "name": "stdout",
          "text": [
            "LA tir del bonoA es: 4.17%\n",
            "LA tir del bonoB es: 5.15%\n",
            "LA tir del bonoC es: 5.88%\n",
            "LA tir del bonoD es: 7.06%\n",
            "LA tir del bonoE es: 8.00%\n",
            "El valor de las etti es: [0.04166666666666674, 0.05196950480239937, 0.05954698846803952, 0.07260473284719349, 0.08331184471944098]\n",
            "el precio del bonoX es 1083.2522022742555 Euros\n",
            "[-1083.2522022742555, 100, 100, 100, 100, 1100]\n",
            "LA tir del bonoX es: 7.92%\n"
          ]
        }
      ]
    },
    {
      "cell_type": "code",
      "source": [
        ""
      ],
      "metadata": {
        "id": "nAO07QGsxzzN"
      },
      "execution_count": null,
      "outputs": []
    },
    {
      "cell_type": "code",
      "source": [
        ""
      ],
      "metadata": {
        "id": "3c_DaML6xz_3"
      },
      "execution_count": null,
      "outputs": []
    },
    {
      "cell_type": "code",
      "source": [
        ""
      ],
      "metadata": {
        "id": "ob-gy_k1x0Lq"
      },
      "execution_count": null,
      "outputs": []
    },
    {
      "cell_type": "code",
      "source": [
        ""
      ],
      "metadata": {
        "id": "vATORp1Lx0Ut"
      },
      "execution_count": null,
      "outputs": []
    },
    {
      "cell_type": "markdown",
      "source": [
        ""
      ],
      "metadata": {
        "id": "OoOWRJnaxi1r"
      }
    }
  ]
}